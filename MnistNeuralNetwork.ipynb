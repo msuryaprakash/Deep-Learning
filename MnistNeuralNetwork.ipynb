{
 "cells": [
  {
   "cell_type": "code",
   "execution_count": 1,
   "metadata": {
    "collapsed": true
   },
   "outputs": [],
   "source": [
    "#Importning necessery libraries\n",
    "import numpy as np\n",
    "import matplotlib.pyplot as plt\n",
    "from tensorflow.examples.tutorials.mnist import input_data"
   ]
  },
  {
   "cell_type": "code",
   "execution_count": 2,
   "metadata": {
    "collapsed": true
   },
   "outputs": [],
   "source": [
    "#3 hidden layer NN\n",
    "class NeuralNetwork(object):\n",
    "    \n",
    "    def __init__(self):\n",
    "        self.learning_rate = 0.001\n",
    "        self.epochs = 701\n",
    "        self.reg = 0.0001\n",
    "        self.batch_size = 256\n",
    "    \n",
    "    def relu(self, x):\n",
    "        return np.maximum(x, 0)\n",
    "    \n",
    "    def relu_der(self, x):\n",
    "        return 1. * (x > 0)\n",
    "    \n",
    "    def softmax(self, x):\n",
    "        return np.exp(x) / np.sum(np.exp(x), axis=1, keepdims=True)\n",
    "    \n",
    "    def softmax_loss(self, x, y):\n",
    "        logs = -np.log(x[range(x.shape[0]), np.argmax(y, axis=1)])\n",
    "        data_loss = np.sum(logs) / x.shape[0]\n",
    "        reg_loss = 0.5 * self.reg * np.sum(self.W1**2) + 0.5 * self.reg * np.sum(self.W2**2) +  0.5 * self.reg * np.sum(self.W3**2)\n",
    "        loss = data_loss + reg_loss\n",
    "        return loss\n",
    "    \n",
    "    def fit(self, X, y):\n",
    "        self.X_train = X\n",
    "        self.y_train = y\n",
    "        \n",
    "        #defining weights\n",
    "        \n",
    "        self.W1 = np.random.randn(X.shape[1], 500) /  np.sqrt(X.shape[1])\n",
    "        self.b1 = np.zeros((1,500)) / np.sqrt(500)\n",
    "        self.W2 = np.random.randn(500, 500) /  np.sqrt(500)\n",
    "        self.b2 = np.zeros((1,500)) / np.sqrt(500)\n",
    "        self.W3 = np.random.randn(500, 500) /  np.sqrt(500)\n",
    "        self.b3 = np.zeros((1,500)) / np.sqrt(500)\n",
    "        self.W4 = np.random.randn(500, y.shape[1]) /  np.sqrt(500)\n",
    "        self.b4 = np.zeros((1, y.shape[1])) / np.sqrt(y.shape[1])\n",
    "        \n",
    "        loss_history = []\n",
    "        for i in range(self.epochs):\n",
    "            inx = np.random.choice(X.shape[0], self.batch_size, replace=True)\n",
    "            X_batch = self.X_train[inx, :]\n",
    "            y_batch = self.y_train[inx]\n",
    "            \n",
    "            l1, l2, l3, scores = self.forward(X_batch)\n",
    "            \n",
    "            loss = self.softmax_loss(scores, y_batch)\n",
    "            loss_history.append(loss)\n",
    "            if (i % 100 == 0):\n",
    "                print(\"Epoche \", i, \" of \", self.epochs, \" Loss: \", loss)\n",
    "            \n",
    "            #backprop\n",
    "            #we can do like this because of using ONE HOT ECODING\n",
    "            dscores = scores - y_batch\n",
    "            dW4 = np.dot(l3.T, dscores)\n",
    "            db4 = np.sum(dscores, axis=0, keepdims=True)\n",
    "            dl3 = np.dot(dscores, self.W4.T) * self.relu_der(l3)\n",
    "            dW3 = np.dot(l2.T, dl3)\n",
    "            db3 = np.sum(dl3, axis=0, keepdims=True)\n",
    "            dl2 = np.dot(dl3, self.W3.T) * self.relu_der(l2)\n",
    "            dW2 = np.dot(l1.T, dl2)\n",
    "            db2 = np.sum(dl2, axis=0, keepdims=True)\n",
    "            dl1 = np.dot(dl2, self.W2.T) * self.relu_der(l1)\n",
    "            dW1 = np.dot(X_batch.T, dl1)\n",
    "            db1 = np.sum(dl1, axis=0, keepdims=True)\n",
    "            \n",
    "            \n",
    "            #reg\n",
    "            dW4 += self.reg * self.W4\n",
    "            dW3 += self.reg * self.W3\n",
    "            dW2 += self.reg * self.W2\n",
    "            dW1 += self.reg * self.W1\n",
    "            \n",
    "            #update first SGD\n",
    "            self.W4 += -self.learning_rate * dW4\n",
    "            self.b4 += -self.learning_rate * db4\n",
    "            self.W3 += -self.learning_rate * dW3\n",
    "            self.b3 += -self.learning_rate * db3\n",
    "            self.W2 += -self.learning_rate * dW2\n",
    "            self.b2 += -self.learning_rate * db2\n",
    "            self.W1 += -self.learning_rate * dW1\n",
    "            self.b1 += -self.learning_rate * db1\n",
    "        return loss_history\n",
    "    \n",
    "    def forward(self, X):\n",
    "        l1 = self.relu(np.dot(X, self.W1) + self.b1)\n",
    "        l2 = self.relu(np.dot(l1, self.W2) + self.b2)\n",
    "        l3 = self.relu(np.dot(l2, self.W3) + self.b3)\n",
    "        yHat = self.softmax(np.dot(l3, self.W4) + self.b4)\n",
    "        return l1, l2, l3, yHat\n",
    "        \n",
    "    def predict(self, X):\n",
    "        _,_,_, scores = self.forward(X)\n",
    "        pred = np.argmax(scores, axis=1)\n",
    "        return pred"
   ]
  },
  {
   "cell_type": "code",
   "execution_count": 3,
   "metadata": {
    "collapsed": false
   },
   "outputs": [
    {
     "name": "stdout",
     "output_type": "stream",
     "text": [
      "Extracting /tmp/data/train-images-idx3-ubyte.gz\n",
      "Extracting /tmp/data/train-labels-idx1-ubyte.gz\n",
      "Extracting /tmp/data/t10k-images-idx3-ubyte.gz\n",
      "Extracting /tmp/data/t10k-labels-idx1-ubyte.gz\n"
     ]
    }
   ],
   "source": [
    "minst = input_data.read_data_sets(\"/tmp/data/\", one_hot=True)\n",
    "X_train = minst.train.images\n",
    "y_train = minst.train.labels\n",
    "X_test = minst.test.images\n",
    "y_test = minst.test.labels\n"
   ]
  },
  {
   "cell_type": "code",
   "execution_count": 4,
   "metadata": {
    "collapsed": false
   },
   "outputs": [
    {
     "name": "stdout",
     "output_type": "stream",
     "text": [
      "Epoche  0  of  701  Loss:  2.38191604664\n",
      "Epoche  100  of  701  Loss:  0.34149612145\n",
      "Epoche  200  of  701  Loss:  0.222572600199\n",
      "Epoche  300  of  701  Loss:  0.251075764649\n",
      "Epoche  400  of  701  Loss:  0.263237864718\n",
      "Epoche  500  of  701  Loss:  0.227471616136\n",
      "Epoche  600  of  701  Loss:  0.162975138499\n",
      "Epoche  700  of  701  Loss:  0.181699039952\n"
     ]
    }
   ],
   "source": [
    "nn = NeuralNetwork()\n",
    "loss_ = nn.fit(X_train, y_train)"
   ]
  },
  {
   "cell_type": "code",
   "execution_count": 5,
   "metadata": {
    "collapsed": true
   },
   "outputs": [],
   "source": [
    "def accuracy(y_test, y_pred):\n",
    "    correct = 0\n",
    "    for i in range(len(y_pred)):\n",
    "        helper_int = 0\n",
    "            \n",
    "        if y_pred[i] == y_test[i]:\n",
    "            correct += 1\n",
    "            \n",
    "    return correct/len(y_pred) * 100"
   ]
  },
  {
   "cell_type": "code",
   "execution_count": 6,
   "metadata": {
    "collapsed": false
   },
   "outputs": [
    {
     "name": "stdout",
     "output_type": "stream",
     "text": [
      "96.71 %\n"
     ]
    }
   ],
   "source": [
    "pred = nn.predict(X_test)\n",
    "print(accuracy(pred, np.argmax(y_test, axis=1)), \"%\")"
   ]
  },
  {
   "cell_type": "code",
   "execution_count": 7,
   "metadata": {
    "collapsed": false
   },
   "outputs": [
    {
     "data": {
      "image/png": "[encoded data removed]",
      "text/plain": [
       "<matplotlib.figure.Figure at 0x19534e87b00>"
      ]
     },
     "metadata": {},
     "output_type": "display_data"
    }
   ],
   "source": [
    "plt.plot(loss_)\n",
    "plt.show()"
   ]
  },
  {
   "cell_type": "code",
   "execution_count": 8,
   "metadata": {
    "collapsed": true
   },
   "outputs": [],
   "source": [
    "import pickle\n",
    "x_train, y_train, x_test, y_test = pickle.load(open('sentiment_set.pickle', 'rb'))"
   ]
  },
  {
   "cell_type": "code",
   "execution_count": 9,
   "metadata": {
    "collapsed": false
   },
   "outputs": [
    {
     "name": "stdout",
     "output_type": "stream",
     "text": [
      "Epoche  0  of  701  Loss:  0.767983191311\n",
      "Epoche  100  of  701  Loss:  0.721302769645\n",
      "Epoche  200  of  701  Loss:  0.701454214589\n",
      "Epoche  300  of  701  Loss:  0.617968540916\n",
      "Epoche  400  of  701  Loss:  0.606311987719\n",
      "Epoche  500  of  701  Loss:  0.519001042588\n",
      "Epoche  600  of  701  Loss:  0.504806398199\n",
      "Epoche  700  of  701  Loss:  0.392165523533\n"
     ]
    }
   ],
   "source": [
    "nn = NeuralNetwork()\n",
    "x_train = np.array(x_train)\n",
    "y_train = np.array(y_train)\n",
    "loss_txt = nn.fit(x_train, y_train)"
   ]
  },
  {
   "cell_type": "code",
   "execution_count": 10,
   "metadata": {
    "collapsed": false
   },
   "outputs": [
    {
     "name": "stdout",
     "output_type": "stream",
     "text": [
      "63.508442776735464 %\n"
     ]
    }
   ],
   "source": [
    "x_test = np.array(x_test)\n",
    "y_test = np.array(y_test)\n",
    "# print(y_test[0])\n",
    "pred = nn.predict(x_test)\n",
    "print(accuracy(pred, np.argmax(y_test, axis=1)), \"%\")"
   ]
  },
  {
   "cell_type": "code",
   "execution_count": 18,
   "metadata": {
    "collapsed": false
   },
   "outputs": [
    {
     "data": {
      "image/png": "[encoded data removed]",
      "text/plain": [
       "<matplotlib.figure.Figure at 0x19534e72438>"
      ]
     },
     "metadata": {},
     "output_type": "display_data"
    }
   ],
   "source": [
    "plt.plot(loss_txt)\n",
    "plt.show()"
   ]
  }
 ],
 "metadata": {
  "kernelspec": {
   "display_name": "Python [conda root]",
   "language": "python",
   "name": "conda-root-py"
  },
  "language_info": {
   "codemirror_mode": {
    "name": "ipython",
    "version": 3
   },
   "file_extension": ".py",
   "mimetype": "text/x-python",
   "name": "python",
   "nbconvert_exporter": "python",
   "pygments_lexer": "ipython3",
   "version": "3.5.2"
  }
 },
 "nbformat": 4,
 "nbformat_minor": 2
}
