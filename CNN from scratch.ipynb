{
 "cells": [
  {
   "cell_type": "code",
   "execution_count": 1,
   "metadata": {
    "collapsed": true
   },
   "outputs": [],
   "source": [
    "#Creating CNN from scratch\n",
    "#Importing libraries\n",
    "import numpy as np\n",
    "import matplotlib.pyplot as plt\n",
    "from tensorflow.examples.tutorials.mnist import input_data"
   ]
  },
  {
   "cell_type": "code",
   "execution_count": 59,
   "metadata": {
    "collapsed": false
   },
   "outputs": [],
   "source": [
    "class ConvNet(object):\n",
    "    \n",
    "    def __init__(self):\n",
    "        #defining hyperparams\n",
    "        self.learning_rate = 0.001\n",
    "        self.reg = 0.0001\n",
    "        self.epochs = 21\n",
    "        self.batch_size = 30\n",
    "        \n",
    "    #LOSS FUNCTION\n",
    "    #Softmax log loss\n",
    "    def softmax_loss(self, scores, y):\n",
    "        #This line is used just in case of one hot encoding\n",
    "        logs = -np.log(scores[range(scores.shape[0]), np.argmax(y, axis=1)])\n",
    "        data_loss = np.sum(logs)/scores.shape[0]\n",
    "        reg_loss = 0.5 * self.reg * np.sum(self.W1**2) + 0.5 * self.reg * np.sum(self.W2**2) +  0.5 * self.reg * np.sum(self.W3**2) +  0.5 * self.reg * np.sum(self.W4**2) \n",
    "        loss = data_loss + reg_loss\n",
    "        return loss\n",
    "    \n",
    "    def softmax(self, x):\n",
    "        return np.exp(x) / np.sum(np.exp(x), axis=1, keepdims=True)\n",
    "    \n",
    "    \n",
    "    ################################\n",
    "    # DEFINING LAYERS FOR ConvNet  #\n",
    "    ################################\n",
    "    \n",
    "    def conv2d(self, x, w, b, stride=1, padding=0):\n",
    "        \n",
    "        #Getting sizes\n",
    "        N, D, H, W = x.shape\n",
    "        F, D, Hf, Wf = w.shape\n",
    "        \n",
    "        #Getting size for the output from this layer\n",
    "        Hout = int(1 + (H - Hf + 2*padding)/stride)\n",
    "        Wout = int(1 + (W - Wf + 2*padding)/stride)\n",
    "        \n",
    "        padded_x = np.pad(x, [(0, 0), (0, 0), (padding, padding), (padding, padding)], 'constant')\n",
    "        \n",
    "        out = np.zeros((N, F, Hout, Wout))\n",
    "        \n",
    "        #getting for each image\n",
    "        for i in range(N):\n",
    "            #for each kenrnel\n",
    "            for j in range(F):\n",
    "                #convolving\n",
    "                for o in range(Hout):\n",
    "                    hPart = o*stride\n",
    "                    for k in range(Wout):\n",
    "                        wPart = k*stride\n",
    "                        \n",
    "                        convPart = padded_x[i, :, hPart:hPart+Hf, wPart:wPart+Wf]\n",
    "                        out[i, j, o, k] = np.sum((convPart * w[j]))  + b[j]\n",
    "                        \n",
    "        cache = (x, w, b, stride, padding)\n",
    "        return out, cache\n",
    "    \n",
    "    def conv2d_backprop(self, deriv_prev, cache):\n",
    "        \n",
    "#         deriv_prev = deriv_prev.reshape(deriv_prev.shape[1], deriv_prev.shape[2], deriv_prev.shape[3], deriv_prev.shape[4])\n",
    "        x, w, b, stride, padding = cache\n",
    "        \n",
    "        N, D, H, W = x.shape\n",
    "        F, D, Hf, Wf = w.shape\n",
    "        \n",
    "        Hout = int(1 + (H - Hf + 2*padding)/stride)\n",
    "        Wout = int(1 + (W - Wf + 2*padding)/stride)\n",
    "        \n",
    "        dx = np.zeros_like(x)\n",
    "        dW = np.zeros_like(w)\n",
    "        db = np.zeros_like(b)\n",
    "        \n",
    "        padded_x = np.pad(x, [(0, 0), (0, 0), (padding, padding), (padding, padding)], 'constant')\n",
    "\n",
    "        padded_dx = np.pad(dx, [(0, 0), (0, 0), (padding, padding), (padding, padding)], 'constant')\n",
    "        \n",
    "        \n",
    "        for i in range(N):\n",
    "            for j in range(F):\n",
    "                \n",
    "                #We need to derive with same parts as we need forward prop\n",
    "                for o in range(Hout):\n",
    "                    hPart = o * stride\n",
    "                    for k in range(Wout):\n",
    "                        wPart = k*stride\n",
    "                        \n",
    "                        convPart = padded_x[i, :, hPart:hPart+Hf, wPart:wPart+Wf]\n",
    "                        #calculating derivatives\n",
    "                        \n",
    "                        db[j] += np.sum(deriv_prev[i, j, o, k], axis=0, keepdims=True)\n",
    "                        dW[j] += convPart * deriv_prev[i, j, o, k]\n",
    "                        padded_dx[i, :, hPart:hPart+Hf, wPart:wPart+Wf] += np.dot(w[j], deriv_prev[i, j, k, o])\n",
    "         \n",
    "        #move zeros from sides\n",
    "        dx = padded_dx[:, :, padding:padding+H, padding:padding+W]\n",
    "        return dx, dW, db\n",
    "    \n",
    "    #by default max_pool2d will slice input by half\n",
    "    def max_pool2d(self, x, fil_size=[2, 2], stride=2):\n",
    "        #Shape of the data\n",
    "        N, D, H, W = x.shape\n",
    "        \n",
    "        \n",
    "        Hout = int(1 + (H - fil_size[0])/stride)\n",
    "        Wout = int(1 + (W - fil_size[1])/stride)\n",
    "\n",
    "        out = np.zeros((N, D, Hout, Wout))\n",
    "        \n",
    "        for i in range(N):\n",
    "            for j in range(D):\n",
    "                \n",
    "                for o in range(Hout):\n",
    "                    hPart = o * stride\n",
    "                    for k in range(Wout):\n",
    "                        wPart = k * stride\n",
    "                        \n",
    "                        maxPart = x[i, j, hPart:hPart+fil_size[0], wPart:wPart+fil_size[1]]\n",
    "                        \n",
    "                        out[i, j, o, k] = np.max(maxPart)\n",
    "        \n",
    "        cache = (x, fil_size, stride)  \n",
    "        \n",
    "        return out, cache\n",
    "        \n",
    "    \n",
    "    def max_pool2d_backprop(self, deriv_prev, cache):\n",
    "        \n",
    "        x, fil_size, stride = cache\n",
    "        \n",
    "        N, D, H, W = x.shape\n",
    "        \n",
    "        \n",
    "        Hout = int(1 + (H - fil_size[0])/stride)\n",
    "        Wout = int(1 + (W - fil_size[1])/stride)\n",
    "           \n",
    "        dx = np.zeros_like(x)\n",
    "        \n",
    "        for i in range(N):\n",
    "            for j in range(D):\n",
    "                \n",
    "                for o in range(Hout):\n",
    "                    hPart = o * stride\n",
    "                    for k in range(Wout):\n",
    "                        wPart = k * stride\n",
    "                        \n",
    "                        maxPart = x[i, j, hPart:hPart+fil_size[0], wPart:wPart+fil_size[1]]\n",
    "                        \n",
    "                        maxOfPart = np.max(maxPart)\n",
    "                        \n",
    "                        dx[i, j, hPart:hPart+fil_size[0], wPart:wPart+fil_size[1]] += (maxPart == maxOfPart) * deriv_prev[i, j, o, k]\n",
    "                           \n",
    "        return dx\n",
    "    \n",
    "    def relu_layer(self, x):\n",
    "        out = np.maximum(x, 0)\n",
    "        cache = x\n",
    "        return out, cache        \n",
    "    \n",
    "    def relu_layer_backprop(self, deriv_prev, cache):\n",
    "        x = cache\n",
    "        dx = deriv_prev * (x > 0)\n",
    "        return dx\n",
    "    \n",
    "    def fully_connected(self, x, w, b, last_layer=False):\n",
    "        out = x.reshape(x.shape[0], np.prod(x.shape[1:])).dot(w)+b\n",
    "        cache = (x, w, b)\n",
    "        return out, cache\n",
    "    \n",
    "    def fully_connected_backprop(self, deriv_prev, cache):\n",
    "        x, w, b = cache\n",
    "        dw = x.reshape(x.shape[0], np.prod(x.shape[1:])).T.dot(deriv_prev)\n",
    "        db = np.sum(deriv_prev, axis=0, keepdims=True)\n",
    "        dx = deriv_prev.dot(w.T).reshape(x.shape) \n",
    "        return dx, dw, db\n",
    "    \n",
    "    ############################################\n",
    "    \n",
    "    def train(self, X_train, y_train):\n",
    "        loss_history = []\n",
    "        \n",
    "        #defining weights and baiases\n",
    "        self.W1 = np.random.randn(32, 1, 3, 3) / np.sqrt(32)\n",
    "        self.b1 = np.zeros((32, 1)) / np.sqrt(32)\n",
    "        self.W2 = np.random.randn(64, 32, 3, 3) / np.sqrt(64)\n",
    "        self.b2 = np.zeros((64, 1)) / np.sqrt(64)\n",
    "        self.W3 = np.random.randn(7 * 7 * 64, 1024) / np.sqrt(7 * 7 * 64)\n",
    "        self.b3 = np.zeros((1, 1024)) / np.sqrt(1024)\n",
    "        self.W4 = np.random.randn(1024, 10) / np.sqrt(1024)\n",
    "        self.b4 = np.zeros((1, 10)) / np.sqrt(10)\n",
    "        \n",
    "        \n",
    "        #Training loop\n",
    "        for i in range(self.epochs):\n",
    "            #getting scores for forward prop\n",
    "            inx = np.random.choice(X_train.shape[0], self.batch_size, replace=True)\n",
    "            X_batch = X_train[inx,:,:,:]\n",
    "            y_batch = y_train[inx,:]\n",
    "            \n",
    "            cache, l1, l2, l3, scores = self.forward_prop(X_batch)\n",
    "            \n",
    "            #unppacing cache\n",
    "            cacheConv1, cachel1, cacheMax1, cacheConv2, cachel2, cacheMax2, cacheFc1, cachel3, cacheFc2 = cache\n",
    "            \n",
    "            loss = self.softmax_loss(scores, y_batch)\n",
    "            loss_history.append(loss)\n",
    "            if i % 5 == 0:\n",
    "                print(\"Epcohe: \", i, \" of \", self.epochs, \" Loss: \", loss)\n",
    "             \n",
    "            #Getting derivation from last layer\n",
    "            dscores = scores\n",
    "            dscores[range(X_batch.shape[0]), np.argmax(y_batch, axis=1)] -= 1\n",
    "            \n",
    "            #Backprop\n",
    "            ddl4, dW4, db4 = self.fully_connected_backprop(dscores, cacheFc2)\n",
    "            dl3 = self.relu_layer_backprop(ddl4, cachel3)\n",
    "            ddl3, dW3, db3 = self.fully_connected_backprop(dl3, cacheFc1)\n",
    "            dMl2 = self.max_pool2d_backprop(ddl3, cacheMax2)\n",
    "            dl2 = self.relu_layer_backprop(dMl2, cachel2)\n",
    "            ddl2, dW2, db2 = self.conv2d_backprop(dl2, cacheConv2)\n",
    "            dMl1 = self.max_pool2d_backprop(ddl2, cacheMax1)\n",
    "            dl1 = self.relu_layer_backprop(dMl1, cachel1)\n",
    "            dx, dW1, db1 = self.conv2d_backprop(dl1, cacheConv1)\n",
    "            \n",
    "            #Regularization\n",
    "            dW4 += self.reg * self.W4\n",
    "            dW3 += self.reg * self.W3\n",
    "            dW2 += self.reg * self.W2\n",
    "            dW1 += self.reg * self.W1\n",
    "            \n",
    "            #SGD\n",
    "            self.W4 += -self.learning_rate * dW4\n",
    "            self.b4 += -self.learning_rate * db4\n",
    "            self.W3 += -self.learning_rate * dW3    \n",
    "            self.b3 += -self.learning_rate * db3\n",
    "            self.W2 += -self.learning_rate * dW2\n",
    "            self.b2 += -self.learning_rate * db2\n",
    "            self.W1 += -self.learning_rate * dW1\n",
    "            self.b1 += -self.learning_rate * db1\n",
    "            \n",
    "                  \n",
    "        return loss_history\n",
    "   \n",
    "    #ADD CACHE return\n",
    "    def forward_prop(self, X):\n",
    "        \n",
    "        #First Conv layer\n",
    "        l1, cacheConv1 = self.conv2d(X, self.W1, self.b1, padding=1)        \n",
    "        l1, cachel1 = self.relu_layer(l1)      \n",
    "        l1, cacheMax1 = self.max_pool2d(l1)\n",
    "        \n",
    "        #Second Conv layer\n",
    "        l2, cacheConv2 = self.conv2d(l1, self.W2, self.b2, padding=1)\n",
    "        l2, cachel2 = self.relu_layer(l2)\n",
    "        l2, cacheMax2 = self.max_pool2d(l2)\n",
    "        \n",
    "        #First fully connected layer\n",
    "        l3, cacheFc1 = self.fully_connected(l2, self.W3, self.b3)\n",
    "        l3, cachel3 = self.relu_layer(l3)\n",
    "        \n",
    "        #Output layer\n",
    "        scores, cacheFc2 = self.fully_connected(l3, self.W4, self.b4, last_layer=True)\n",
    "        scores = self.softmax(scores)\n",
    "        \n",
    "        cache = (cacheConv1, cachel1, cacheMax1, cacheConv2, cachel2, cacheMax2, cacheFc1, cachel3, cacheFc2)\n",
    "        return cache, l1, l2, l3, scores\n",
    "        \n",
    "    \n",
    "    def predict(self, X):\n",
    "        _, _, _, _, scores = self.forward_prop(X)\n",
    "        \n",
    "        pred = np.argmax(scores, axis=1)\n",
    "        return pred "
   ]
  },
  {
   "cell_type": "code",
   "execution_count": 3,
   "metadata": {
    "collapsed": false
   },
   "outputs": [
    {
     "name": "stdout",
     "output_type": "stream",
     "text": [
      "Extracting /tmp/data/train-images-idx3-ubyte.gz\n",
      "Extracting /tmp/data/train-labels-idx1-ubyte.gz\n",
      "Extracting /tmp/data/t10k-images-idx3-ubyte.gz\n",
      "Extracting /tmp/data/t10k-labels-idx1-ubyte.gz\n"
     ]
    }
   ],
   "source": [
    "mnist = input_data.read_data_sets(\"/tmp/data/\", one_hot=True)\n",
    "X_train = mnist.train.images\n",
    "y_train = mnist.train.labels\n",
    "X_test = mnist.test.images\n",
    "y_test = mnist.test.labels"
   ]
  },
  {
   "cell_type": "code",
   "execution_count": 4,
   "metadata": {
    "collapsed": true
   },
   "outputs": [],
   "source": [
    "def accuracy(y_test, y_pred):\n",
    "    correct = 0\n",
    "    for i in range(len(y_pred)):\n",
    "        helper_int = 0\n",
    "            \n",
    "        if y_pred[i] == y_test[i]:\n",
    "            correct += 1\n",
    "            \n",
    "    return correct/len(y_pred) * 100"
   ]
  },
  {
   "cell_type": "code",
   "execution_count": 5,
   "metadata": {
    "collapsed": false
   },
   "outputs": [
    {
     "name": "stdout",
     "output_type": "stream",
     "text": [
      "(55000, 784)  ->  (55000, 1, 28, 28)\n",
      "(55000, 10)\n",
      "(10000, 784)  ->  (10000, 1, 28, 28)\n",
      "(10000, 10)\n"
     ]
    }
   ],
   "source": [
    "#Res#haping train and test set\n",
    "\n",
    "#Just for MNIST\n",
    "x_train = X_train.reshape(X_train.shape[0], 1, 28, 28)\n",
    "print(X_train.shape, \" -> \", x_train.shape)\n",
    "print(y_train.shape)\n",
    "x_test = X_test.reshape(X_test.shape[0], 1, 28, 28)\n",
    "print(X_test.shape, \" -> \", x_test.shape)\n",
    "print(y_test.shape)"
   ]
  },
  {
   "cell_type": "code",
   "execution_count": 60,
   "metadata": {
    "collapsed": false,
    "scrolled": true
   },
   "outputs": [
    {
     "name": "stdout",
     "output_type": "stream",
     "text": [
      "Epcohe:  0  of  21  Loss:  2.37773051597\n",
      "Epcohe:  5  of  21  Loss:  2.22106270489\n",
      "Epcohe:  10  of  21  Loss:  2.0836345977\n",
      "Epcohe:  15  of  21  Loss:  1.8782287578\n",
      "Epcohe:  20  of  21  Loss:  1.90596345138\n"
     ]
    }
   ],
   "source": [
    "cnn = ConvNet()\n",
    "loss = cnn.train(x_train, y_train)"
   ]
  },
  {
   "cell_type": "code",
   "execution_count": 61,
   "metadata": {
    "collapsed": false
   },
   "outputs": [
    {
     "data": {
      "image/png": "[encoded data removed]",
      "text/plain": [
       "<matplotlib.figure.Figure at 0x2a70c973b70>"
      ]
     },
     "metadata": {},
     "output_type": "display_data"
    }
   ],
   "source": [
    "plt.plot(loss)\n",
    "plt.show()"
   ]
  },
  {
   "cell_type": "code",
   "execution_count": 68,
   "metadata": {
    "collapsed": false
   },
   "outputs": [
    {
     "name": "stdout",
     "output_type": "stream",
     "text": [
      "20.0\n"
     ]
    }
   ],
   "source": [
    "inx = np.random.choice(x_test.shape[0], 55, replace=True)\n",
    "test_batch_x = x_test[inx,:, :, :]\n",
    "test_batch_y = y_test[inx, :]\n",
    "pred = cnn.predict(test_batch_x)\n",
    "print(accuracy(pred, np.argmax(test_batch_y, axis=0)))"
   ]
  }
 ],
 "metadata": {
  "kernelspec": {
   "display_name": "Python [conda root]",
   "language": "python",
   "name": "conda-root-py"
  },
  "language_info": {
   "codemirror_mode": {
    "name": "ipython",
    "version": 3
   },
   "file_extension": ".py",
   "mimetype": "text/x-python",
   "name": "python",
   "nbconvert_exporter": "python",
   "pygments_lexer": "ipython3",
   "version": "3.5.2"
  }
 },
 "nbformat": 4,
 "nbformat_minor": 2
}
